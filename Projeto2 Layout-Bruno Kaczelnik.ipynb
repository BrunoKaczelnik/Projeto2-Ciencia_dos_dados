{
 "cells": [
  {
   "cell_type": "markdown",
   "metadata": {},
   "source": [
    "___\n",
    "# Ciência dos Dados - PROJETO 2"
   ]
  },
  {
   "cell_type": "markdown",
   "metadata": {},
   "source": [
    "___\n",
    "## Bruno Kaczelnik"
   ]
  },
  {
   "cell_type": "markdown",
   "metadata": {},
   "source": [
    "___\n",
    "\n",
    "## 1. Problema\n",
    "\n",
    "O Classificador Naive-Bayes, o qual se baseia no uso do teorema de Bayes, é largamente utilizado em filtros anti-spam de e-mails. O classificador permite calcular qual a probabilidade de uma mensagem ser SPAM considerando as palavras em seu conteúdo e, de forma complementar, permite calcular a probabilidade de uma mensagem ser HAM dada as palavras descritas na mensagem.\n",
    "\n",
    "Para realizar o MVP (minimum viable product) do projeto, você precisa programar uma versão do classificador que \"aprende\" o que é uma mensagem SPAM considerando uma base de treinamento e comparar o desempenho dos resultados com uma base de testes. \n"
   ]
  },
  {
   "cell_type": "markdown",
   "metadata": {},
   "source": [
    "___\n",
    "## 2. Separação da base de dados em Treinamento e Teste\n",
    "\n",
    "A base de dados deve ser separada em duas partes, aleatoriamente, considerando: \n",
    "    \n",
    "    75% dos dados para a parte Treinamento; e\n",
    "    25% dos dados para a parte Teste."
   ]
  },
  {
   "cell_type": "code",
   "execution_count": 56,
   "metadata": {},
   "outputs": [],
   "source": [
    "import pandas as pd\n",
    "import os\n",
    "from sklearn.model_selection import train_test_split\n",
    "import numpy as np\n",
    "import matplotlib.pyplot as plt\n",
    "import warnings"
   ]
  },
  {
   "cell_type": "code",
   "execution_count": 2,
   "metadata": {},
   "outputs": [
    {
     "name": "stdout",
     "output_type": "stream",
     "text": [
      "Esperamos trabalhar no diretório\n",
      "C:\\Users\\PCDELL\\Desktop\\insper\\CDD\\projeto 2\n"
     ]
    }
   ],
   "source": [
    "print('Esperamos trabalhar no diretório')\n",
    "print(os.getcwd())"
   ]
  },
  {
   "cell_type": "markdown",
   "metadata": {},
   "source": [
    "Abrindo os arquivos:"
   ]
  },
  {
   "cell_type": "code",
   "execution_count": 3,
   "metadata": {},
   "outputs": [],
   "source": [
    "dados = pd.read_excel('spamham2019.xlsx')"
   ]
  },
  {
   "cell_type": "code",
   "execution_count": 4,
   "metadata": {},
   "outputs": [
    {
     "data": {
      "text/html": [
       "<div>\n",
       "<style scoped>\n",
       "    .dataframe tbody tr th:only-of-type {\n",
       "        vertical-align: middle;\n",
       "    }\n",
       "\n",
       "    .dataframe tbody tr th {\n",
       "        vertical-align: top;\n",
       "    }\n",
       "\n",
       "    .dataframe thead th {\n",
       "        text-align: right;\n",
       "    }\n",
       "</style>\n",
       "<table border=\"1\" class=\"dataframe\">\n",
       "  <thead>\n",
       "    <tr style=\"text-align: right;\">\n",
       "      <th></th>\n",
       "      <th>Email</th>\n",
       "      <th>Class</th>\n",
       "    </tr>\n",
       "  </thead>\n",
       "  <tbody>\n",
       "    <tr>\n",
       "      <th>0</th>\n",
       "      <td>Go until jurong point, crazy.. Available only ...</td>\n",
       "      <td>ham</td>\n",
       "    </tr>\n",
       "    <tr>\n",
       "      <th>1</th>\n",
       "      <td>Ok lar... Joking wif u oni...</td>\n",
       "      <td>ham</td>\n",
       "    </tr>\n",
       "    <tr>\n",
       "      <th>2</th>\n",
       "      <td>Free entry in 2 a wkly comp to win FA Cup fina...</td>\n",
       "      <td>spam</td>\n",
       "    </tr>\n",
       "    <tr>\n",
       "      <th>3</th>\n",
       "      <td>U dun say so early hor... U c already then say...</td>\n",
       "      <td>ham</td>\n",
       "    </tr>\n",
       "    <tr>\n",
       "      <th>4</th>\n",
       "      <td>Nah I don't think he goes to usf, he lives aro...</td>\n",
       "      <td>ham</td>\n",
       "    </tr>\n",
       "  </tbody>\n",
       "</table>\n",
       "</div>"
      ],
      "text/plain": [
       "                                               Email Class\n",
       "0  Go until jurong point, crazy.. Available only ...   ham\n",
       "1                      Ok lar... Joking wif u oni...   ham\n",
       "2  Free entry in 2 a wkly comp to win FA Cup fina...  spam\n",
       "3  U dun say so early hor... U c already then say...   ham\n",
       "4  Nah I don't think he goes to usf, he lives aro...   ham"
      ]
     },
     "execution_count": 4,
     "metadata": {},
     "output_type": "execute_result"
    }
   ],
   "source": [
    "dados.head()"
   ]
  },
  {
   "cell_type": "code",
   "execution_count": 5,
   "metadata": {},
   "outputs": [
    {
     "name": "stdout",
     "output_type": "stream",
     "text": [
      "O arquivo contem 5572 linhas e 2 colunas\n"
     ]
    }
   ],
   "source": [
    "print('O arquivo contem {0} linhas e {1} colunas'.format(dados.shape[0],dados.shape[1]))"
   ]
  },
  {
   "cell_type": "code",
   "execution_count": 6,
   "metadata": {},
   "outputs": [],
   "source": [
    "teste,treinamento = train_test_split(dados, test_size=0.75)"
   ]
  },
  {
   "cell_type": "code",
   "execution_count": 7,
   "metadata": {},
   "outputs": [
    {
     "data": {
      "text/plain": [
       "(1393, 2)"
      ]
     },
     "execution_count": 7,
     "metadata": {},
     "output_type": "execute_result"
    }
   ],
   "source": [
    "teste.shape"
   ]
  },
  {
   "cell_type": "code",
   "execution_count": 8,
   "metadata": {},
   "outputs": [
    {
     "data": {
      "text/plain": [
       "(4179, 2)"
      ]
     },
     "execution_count": 8,
     "metadata": {},
     "output_type": "execute_result"
    }
   ],
   "source": [
    "treinamento.shape"
   ]
  },
  {
   "cell_type": "code",
   "execution_count": 9,
   "metadata": {},
   "outputs": [
    {
     "data": {
      "text/html": [
       "<div>\n",
       "<style scoped>\n",
       "    .dataframe tbody tr th:only-of-type {\n",
       "        vertical-align: middle;\n",
       "    }\n",
       "\n",
       "    .dataframe tbody tr th {\n",
       "        vertical-align: top;\n",
       "    }\n",
       "\n",
       "    .dataframe thead th {\n",
       "        text-align: right;\n",
       "    }\n",
       "</style>\n",
       "<table border=\"1\" class=\"dataframe\">\n",
       "  <thead>\n",
       "    <tr style=\"text-align: right;\">\n",
       "      <th></th>\n",
       "      <th>Email</th>\n",
       "      <th>Class</th>\n",
       "    </tr>\n",
       "  </thead>\n",
       "  <tbody>\n",
       "    <tr>\n",
       "      <th>396</th>\n",
       "      <td>Was actually sleeping and still might when u c...</td>\n",
       "      <td>ham</td>\n",
       "    </tr>\n",
       "    <tr>\n",
       "      <th>4040</th>\n",
       "      <td>Please call our customer service representativ...</td>\n",
       "      <td>spam</td>\n",
       "    </tr>\n",
       "    <tr>\n",
       "      <th>1106</th>\n",
       "      <td>Good afternoon, my love. How goes your day ? W...</td>\n",
       "      <td>ham</td>\n",
       "    </tr>\n",
       "    <tr>\n",
       "      <th>4921</th>\n",
       "      <td>Hi Dear Call me its urgnt. I don't know whats ...</td>\n",
       "      <td>ham</td>\n",
       "    </tr>\n",
       "    <tr>\n",
       "      <th>238</th>\n",
       "      <td>New Theory: Argument wins d SITUATION, but los...</td>\n",
       "      <td>ham</td>\n",
       "    </tr>\n",
       "  </tbody>\n",
       "</table>\n",
       "</div>"
      ],
      "text/plain": [
       "                                                  Email Class\n",
       "396   Was actually sleeping and still might when u c...   ham\n",
       "4040  Please call our customer service representativ...  spam\n",
       "1106  Good afternoon, my love. How goes your day ? W...   ham\n",
       "4921  Hi Dear Call me its urgnt. I don't know whats ...   ham\n",
       "238   New Theory: Argument wins d SITUATION, but los...   ham"
      ]
     },
     "execution_count": 9,
     "metadata": {},
     "output_type": "execute_result"
    }
   ],
   "source": [
    "treinamento.head()"
   ]
  },
  {
   "cell_type": "code",
   "execution_count": 10,
   "metadata": {},
   "outputs": [
    {
     "data": {
      "text/html": [
       "<div>\n",
       "<style scoped>\n",
       "    .dataframe tbody tr th:only-of-type {\n",
       "        vertical-align: middle;\n",
       "    }\n",
       "\n",
       "    .dataframe tbody tr th {\n",
       "        vertical-align: top;\n",
       "    }\n",
       "\n",
       "    .dataframe thead th {\n",
       "        text-align: right;\n",
       "    }\n",
       "</style>\n",
       "<table border=\"1\" class=\"dataframe\">\n",
       "  <thead>\n",
       "    <tr style=\"text-align: right;\">\n",
       "      <th></th>\n",
       "      <th>Email</th>\n",
       "      <th>Class</th>\n",
       "    </tr>\n",
       "  </thead>\n",
       "  <tbody>\n",
       "    <tr>\n",
       "      <th>2741</th>\n",
       "      <td>No * am working on the ringing u thing but hav...</td>\n",
       "      <td>ham</td>\n",
       "    </tr>\n",
       "    <tr>\n",
       "      <th>1859</th>\n",
       "      <td>It could work, we'll reach a consensus at the ...</td>\n",
       "      <td>ham</td>\n",
       "    </tr>\n",
       "    <tr>\n",
       "      <th>5317</th>\n",
       "      <td>K, fyi I'm back in my parents' place in south ...</td>\n",
       "      <td>ham</td>\n",
       "    </tr>\n",
       "    <tr>\n",
       "      <th>2614</th>\n",
       "      <td>2marrow only. Wed at  &amp;lt;#&amp;gt;  to 2 aha.</td>\n",
       "      <td>ham</td>\n",
       "    </tr>\n",
       "    <tr>\n",
       "      <th>4266</th>\n",
       "      <td>SORRY IM STIL FUCKED AFTER LAST NITE WENT TOBE...</td>\n",
       "      <td>ham</td>\n",
       "    </tr>\n",
       "  </tbody>\n",
       "</table>\n",
       "</div>"
      ],
      "text/plain": [
       "                                                  Email Class\n",
       "2741  No * am working on the ringing u thing but hav...   ham\n",
       "1859  It could work, we'll reach a consensus at the ...   ham\n",
       "5317  K, fyi I'm back in my parents' place in south ...   ham\n",
       "2614         2marrow only. Wed at  &lt;#&gt;  to 2 aha.   ham\n",
       "4266  SORRY IM STIL FUCKED AFTER LAST NITE WENT TOBE...   ham"
      ]
     },
     "execution_count": 10,
     "metadata": {},
     "output_type": "execute_result"
    }
   ],
   "source": [
    "teste.head()"
   ]
  },
  {
   "cell_type": "markdown",
   "metadata": {},
   "source": [
    "___\n",
    "## 3. Classificador Naive-Bayes"
   ]
  },
  {
   "cell_type": "markdown",
   "metadata": {},
   "source": [
    "Criando um limpador para os textos:"
   ]
  },
  {
   "cell_type": "code",
   "execution_count": 11,
   "metadata": {},
   "outputs": [],
   "source": [
    "def limpador (texto):\n",
    "    texto=texto.replace('!','')\n",
    "    texto=texto.replace('@','')\n",
    "    texto=texto.replace('#','')\n",
    "    texto=texto.replace('$','')\n",
    "    texto=texto.replace('%','')\n",
    "    texto=texto.replace('^','')\n",
    "    texto=texto.replace('(','')\n",
    "    texto=texto.replace('*','')\n",
    "    texto=texto.replace(')','')\n",
    "    texto=texto.replace('+','')\n",
    "    texto=texto.replace('=','')\n",
    "    texto=texto.replace('_','')\n",
    "    texto=texto.replace('-','')\n",
    "    texto=texto.replace(':','')\n",
    "    texto=texto.replace(';','')\n",
    "    texto=texto.replace('\"','')\n",
    "    texto=texto.replace(\"'\",'')\n",
    "    texto=texto.replace(',','')\n",
    "    texto=texto.replace('>','')\n",
    "    texto=texto.replace('.',' ')\n",
    "    texto=texto.replace('?','')\n",
    "    texto=texto.replace('/','')\n",
    "    texto=texto.replace('[','')\n",
    "    texto=texto.replace(']','')\n",
    "    texto=texto.replace('{','')\n",
    "    texto=texto.replace('}','')\n",
    "    texto=texto.replace('|','')\n",
    "    texto=texto.replace('`','')\n",
    "    texto=texto.replace('*','')\n",
    "    texto=texto.replace('&','')   \n",
    "    texto=texto.replace('\\ ','')\n",
    "    texto=texto.upper()\n",
    "    return texto.split()          "
   ]
  },
  {
   "cell_type": "markdown",
   "metadata": {},
   "source": [
    "Testando o limpador:"
   ]
  },
  {
   "cell_type": "code",
   "execution_count": 12,
   "metadata": {},
   "outputs": [
    {
     "name": "stdout",
     "output_type": "stream",
     "text": [
      "['EU', 'ESTOU', 'TESTANDO', 'ESTE', 'LIMPADOR', 'E', 'VENDO', 'SE', 'ELE', 'FUNCIONA']\n"
     ]
    }
   ],
   "source": [
    "print(limpador('eu estou testando * este limp&ador e vend&o se ele funciona!!!'))"
   ]
  },
  {
   "cell_type": "markdown",
   "metadata": {},
   "source": [
    "Vendo a porcentagem de ham e spam na base de treinamento:"
   ]
  },
  {
   "cell_type": "code",
   "execution_count": 13,
   "metadata": {},
   "outputs": [
    {
     "name": "stdout",
     "output_type": "stream",
     "text": [
      "total do teinamento =4179  100.0%\n",
      "quantidade de spam  =555   13.28%\n",
      "quantidade de ham   =3624  86.72%\n"
     ]
    }
   ],
   "source": [
    "treinamento_spam=treinamento[treinamento.Class=='spam']\n",
    "treinamento_ham=treinamento[treinamento.Class=='ham']\n",
    "total_de_treinamento=treinamento.shape[0]\n",
    "quantidade_de_spam=treinamento_spam.shape[0]\n",
    "quantidade_de_ham=treinamento_ham.shape[0]\n",
    "porcentagem_total=total_de_treinamento/total_de_treinamento\n",
    "porcentagem_spam=quantidade_de_spam/total_de_treinamento\n",
    "porcentagem_ham=quantidade_de_ham/total_de_treinamento\n",
    "\n",
    "print('total do teinamento ={0}  {1}%'.format(total_de_treinamento,porcentagem_total*100))\n",
    "print('quantidade de spam  ={0}   {1:.2f}%'.format(quantidade_de_spam,porcentagem_spam*100))\n",
    "print('quantidade de ham   ={0}  {1:.2f}%'.format(quantidade_de_ham,porcentagem_ham*100))\n",
    "\n"
   ]
  },
  {
   "cell_type": "markdown",
   "metadata": {},
   "source": [
    "Limpando os emails para adicionar as palavras em um futuro dicionario e semparando spam e ham em diferentes lstas:"
   ]
  },
  {
   "cell_type": "code",
   "execution_count": 14,
   "metadata": {},
   "outputs": [],
   "source": [
    "treinamento_limpo_spam=[]\n",
    "treinamento_limpo_ham=[]\n",
    "for texto in treinamento_spam.Email:\n",
    "    treinamento_limpo_spam.append(limpador(texto))\n",
    "for texto in treinamento_ham.Email:\n",
    "    treinamento_limpo_ham.append(limpador(texto))"
   ]
  },
  {
   "cell_type": "code",
   "execution_count": 15,
   "metadata": {},
   "outputs": [],
   "source": [
    "#print(treinamento_limpo_spam)"
   ]
  },
  {
   "cell_type": "code",
   "execution_count": 16,
   "metadata": {},
   "outputs": [],
   "source": [
    "#print(treinamento_limpo_ham)"
   ]
  },
  {
   "cell_type": "markdown",
   "metadata": {},
   "source": [
    "Adicionando cada palavra em dicionarios de ham e spam para contarmos quantas ocorrencias ha de cada palavra :"
   ]
  },
  {
   "cell_type": "code",
   "execution_count": 17,
   "metadata": {},
   "outputs": [],
   "source": [
    "dic_spam={}\n",
    "numero_de_palavras_spam=0\n",
    "for listas in treinamento_limpo_spam:\n",
    "    for palavra in listas :\n",
    "        if palavra in dic_spam:\n",
    "            dic_spam[palavra]+=1\n",
    "            numero_de_palavras_spam+=1\n",
    "        else:\n",
    "            dic_spam[palavra]=1\n",
    "            numero_de_palavras_spam+=1\n",
    "            \n",
    "#print (dic_spam)    \n",
    "#print(numero_de_palavras_spam)    "
   ]
  },
  {
   "cell_type": "code",
   "execution_count": 18,
   "metadata": {},
   "outputs": [],
   "source": [
    "dic_ham={}\n",
    "numero_de_palavras_ham=0\n",
    "for listas in treinamento_limpo_ham:\n",
    "    for palavra in listas :\n",
    "        if palavra in dic_ham:\n",
    "            dic_ham[palavra]+=1\n",
    "            numero_de_palavras_ham+=1\n",
    "        else:\n",
    "            dic_ham[palavra]=1\n",
    "            numero_de_palavras_ham+=1\n",
    "            \n",
    "total_de_palavras=numero_de_palavras_ham+numero_de_palavras_spam\n",
    "#print (dic_ham)    \n",
    "#print(numero_de_palavras_ham)    \n",
    "#print(total_de_palavras)    "
   ]
  },
  {
   "cell_type": "markdown",
   "metadata": {},
   "source": [
    "Criando uma funcao para calcular a probabilidade do email ser spam ou ham:"
   ]
  },
  {
   "cell_type": "code",
   "execution_count": 19,
   "metadata": {},
   "outputs": [],
   "source": [
    "def probabilidade(dicionario,email,prob,numero_de_palavras):\n",
    "    email_limpo=limpador(email)\n",
    "    probabilidade=prob\n",
    "    for palavra in email_limpo:\n",
    "        if palavra in dicionario:\n",
    "            probabilidade +=np.log((1+dicionario[palavra])/(total_de_palavras+numero_de_palavras))\n",
    "        else:\n",
    "            probabilidade +=np.log(1/(total_de_palavras+numero_de_palavras))\n",
    "    return probabilidade"
   ]
  },
  {
   "cell_type": "markdown",
   "metadata": {},
   "source": [
    "Criando um comparador para ver qual pobabilidade e maior e decidir assim se o email se classifica como spam ou ham"
   ]
  },
  {
   "cell_type": "code",
   "execution_count": 20,
   "metadata": {},
   "outputs": [],
   "source": [
    "def compara_probabilidades(prob_spam,prob_ham):\n",
    "    if prob_spam>prob_ham:\n",
    "        return 'spam'\n",
    "    else:\n",
    "        return 'ham'"
   ]
  },
  {
   "cell_type": "markdown",
   "metadata": {},
   "source": [
    "Testando:"
   ]
  },
  {
   "cell_type": "code",
   "execution_count": 21,
   "metadata": {
    "scrolled": true
   },
   "outputs": [
    {
     "name": "stdout",
     "output_type": "stream",
     "text": [
      "spam\n"
     ]
    }
   ],
   "source": [
    "email=\"lats have sex\"\n",
    "x=probabilidade(dic_ham,email,porcentagem_ham,numero_de_palavras_ham)\n",
    "y=probabilidade(dic_spam,email,porcentagem_spam,numero_de_palavras_spam)\n",
    "print (compara_probabilidades(y,x))"
   ]
  },
  {
   "cell_type": "markdown",
   "metadata": {},
   "source": [
    "Criando uma nova coluna na base de dados com os resultados do simulador:"
   ]
  },
  {
   "cell_type": "code",
   "execution_count": 57,
   "metadata": {},
   "outputs": [],
   "source": [
    "spam_ham=[]\n",
    "for email in teste['Email']:\n",
    "    x=probabilidade(dic_ham,email,porcentagem_ham,numero_de_palavras_ham)\n",
    "    y=probabilidade(dic_spam,email,porcentagem_spam,numero_de_palavras_spam)\n",
    "    resultado=compara_probabilidades(y,x)\n",
    "    spam_ham.append(resultado)\n",
    "teste['Simulador']=spam_ham\n",
    "teste.head()\n",
    "pd.set_option('chained_assignment',None)"
   ]
  },
  {
   "cell_type": "code",
   "execution_count": 23,
   "metadata": {},
   "outputs": [
    {
     "name": "stdout",
     "output_type": "stream",
     "text": [
      "acerto: 1344\n",
      "erro  : 49\n",
      "total : 1393\n",
      "\n",
      "positivo      : 150\n",
      "negativo      : 1194\n",
      "falso_negativo: 42\n",
      "falso_positivo: 7\n",
      "\n",
      "acuracia: 96.4824120603015 %\n"
     ]
    }
   ],
   "source": [
    "acerto_erro=[]\n",
    "lista_Class=[]\n",
    "lista_Simulador=[]\n",
    "falso_positivo=0\n",
    "positivo=0\n",
    "falso_negativo=0\n",
    "negativo=0\n",
    "acerto=0\n",
    "erro=0\n",
    "for Class in teste['Class']:\n",
    "    lista_Class.append(Class)\n",
    "for Class in teste['Simulador']:\n",
    "    lista_Simulador.append(Class)\n",
    "for i in range(len(lista_Class)):\n",
    "    if lista_Class[i]==lista_Simulador[i]:\n",
    "        acerto_erro.append('acerto') \n",
    "        acerto+=1\n",
    "        if lista_Class[i]=='ham':\n",
    "            negativo+=1\n",
    "        if lista_Class[i]=='spam':\n",
    "            positivo+=1\n",
    "    else:\n",
    "        acerto_erro.append('erro')\n",
    "        erro+=1\n",
    "        if lista_Class[i]=='ham':\n",
    "            falso_positivo+=1\n",
    "        if lista_Class[i]=='spam':\n",
    "            falso_negativo+=1\n",
    "\n",
    "print('acerto:',acerto)\n",
    "print('erro  :',erro)\n",
    "print('total :',erro+acerto)\n",
    "print()\n",
    "print('positivo      :',positivo)\n",
    "print('negativo      :',negativo)\n",
    "print('falso_negativo:',falso_negativo)\n",
    "print('falso_positivo:',falso_positivo)\n",
    "print()\n",
    "print('acuracia:',acerto/(acerto+erro)*100,'%')"
   ]
  },
  {
   "cell_type": "markdown",
   "metadata": {},
   "source": [
    "___\n",
    "## 4. Qualidade do Classificador alterando a base de treinamento"
   ]
  },
  {
   "cell_type": "code",
   "execution_count": 24,
   "metadata": {
    "scrolled": true
   },
   "outputs": [],
   "source": [
    "negativo_=[]\n",
    "positivo_=[]\n",
    "falso_positivo_=[]\n",
    "falso_negativo_=[]\n",
    "acuracia_=[]"
   ]
  },
  {
   "cell_type": "code",
   "execution_count": 58,
   "metadata": {},
   "outputs": [],
   "source": [
    "for roda in range (10000):\n",
    "    teste,treinamento = train_test_split(dados, test_size=0.75)\n",
    "    \n",
    "    treinamento_spam=treinamento[treinamento.Class=='spam']\n",
    "    treinamento_ham=treinamento[treinamento.Class=='ham']\n",
    "    total_de_treinamento=treinamento.shape[0]\n",
    "    quantidade_de_spam=treinamento_spam.shape[0]\n",
    "    quantidade_de_ham=treinamento_ham.shape[0]\n",
    "    porcentagem_total=total_de_treinamento/total_de_treinamento\n",
    "    porcentagem_spam=quantidade_de_spam/total_de_treinamento\n",
    "    porcentagem_ham=quantidade_de_ham/total_de_treinamento\n",
    "    \n",
    "    treinamento_limpo_spam=[]\n",
    "    treinamento_limpo_ham=[]\n",
    "    for texto in treinamento_spam.Email:\n",
    "        treinamento_limpo_spam.append(limpador(texto))\n",
    "    for texto in treinamento_ham.Email:\n",
    "        treinamento_limpo_ham.append(limpador(texto))\n",
    "        \n",
    "    dic_spam={}\n",
    "    numero_de_palavras_spam=0\n",
    "    for listas in treinamento_limpo_spam:\n",
    "        for palavra in listas :\n",
    "            if palavra in dic_spam:\n",
    "                dic_spam[palavra]+=1\n",
    "                numero_de_palavras_spam+=1\n",
    "            else:\n",
    "                dic_spam[palavra]=1\n",
    "                numero_de_palavras_spam+=1\n",
    "                \n",
    "    dic_ham={}\n",
    "    numero_de_palavras_ham=0\n",
    "    for listas in treinamento_limpo_ham:\n",
    "        for palavra in listas :\n",
    "            if palavra in dic_ham:\n",
    "                dic_ham[palavra]+=1\n",
    "                numero_de_palavras_ham+=1\n",
    "            else:\n",
    "                dic_ham[palavra]=1\n",
    "                numero_de_palavras_ham+=1\n",
    "            \n",
    "    total_de_palavras=numero_de_palavras_ham+numero_de_palavras_spam\n",
    "    \n",
    "    spam_ham=[]\n",
    "    for email in teste['Email']:\n",
    "        x=probabilidade(dic_ham,email,porcentagem_ham,numero_de_palavras_ham)\n",
    "        y=probabilidade(dic_spam,email,porcentagem_spam,numero_de_palavras_spam)\n",
    "        resultado=compara_probabilidades(y,x)\n",
    "        spam_ham.append(resultado)\n",
    "    teste['Simulador']=spam_ham\n",
    "    \n",
    "    acerto_erro=[]\n",
    "    lista_Class=[]\n",
    "    lista_Simulador=[]\n",
    "    falso_positivo=0\n",
    "    positivo=0\n",
    "    falso_negativo=0\n",
    "    negativo=0\n",
    "    acerto=0\n",
    "    erro=0\n",
    "    for Class in teste['Class']:\n",
    "        lista_Class.append(Class)\n",
    "    for Class in teste['Simulador']:\n",
    "        lista_Simulador.append(Class)\n",
    "    for i in range(len(lista_Class)):\n",
    "        if lista_Class[i]==lista_Simulador[i]:\n",
    "            acerto_erro.append('acerto') \n",
    "            acerto+=1\n",
    "            if lista_Class[i]=='ham':\n",
    "                negativo+=1\n",
    "            if lista_Class[i]=='spam':\n",
    "                positivo+=1\n",
    "        else:\n",
    "            acerto_erro.append('erro')\n",
    "            erro+=1\n",
    "            if lista_Class[i]=='ham':\n",
    "                falso_positivo+=1\n",
    "            if lista_Class[i]=='spam':\n",
    "                falso_negativo+=1\n",
    "    acuracia=(acerto/(acerto+erro)*100)\n",
    "    negativo_.append(negativo)\n",
    "    positivo_.append(positivo)\n",
    "    falso_positivo_.append(falso_positivo)\n",
    "    falso_negativo_.append(falso_negativo)\n",
    "    acuracia_.append(acuracia)"
   ]
  },
  {
   "cell_type": "code",
   "execution_count": 27,
   "metadata": {},
   "outputs": [
    {
     "name": "stdout",
     "output_type": "stream",
     "text": [
      "media negativo             : 1202.47\n",
      "media positivo             : 147.77\n",
      "media falso positivo       : 3.88\n",
      "media falso negativo       : 38.89\n",
      "\n",
      "porcentagem negativo       : 86.32%\n",
      "porcentagem positivo       : 10.61%\n",
      "porcentagem falso positivo : 0.28%\n",
      "porcentagem falso negativo : 2.79%\n",
      "media acuracia             : 96.93%\n"
     ]
    }
   ],
   "source": [
    "media_negativo=sum(negativo_)/len(negativo_)\n",
    "media_positivo=sum(positivo_)/len(positivo_)\n",
    "media_falso_positivo=sum(falso_positivo_)/len(falso_positivo_)\n",
    "media_falso_negativo=sum(falso_negativo_)/len(falso_negativo_)\n",
    "media_acuracia=sum(acuracia_)/len(acuracia_)\n",
    "print('media negativo             : {:.2f}'.format(media_negativo))\n",
    "print('media positivo             : {:.2f}'.format(media_positivo))\n",
    "print('media falso positivo       : {:.2f}'.format(media_falso_positivo))\n",
    "print('media falso negativo       : {:.2f}'.format(media_falso_negativo))\n",
    "print()\n",
    "print('porcentagem negativo       : {:.2f}%'.format((media_negativo*100)/teste.shape[0]))\n",
    "print('porcentagem positivo       : {:.2f}%'.format((media_positivo*100)/teste.shape[0]))\n",
    "print('porcentagem falso positivo : {:.2f}%'.format((media_falso_positivo*100)/teste.shape[0]))\n",
    "print('porcentagem falso negativo : {:.2f}%'.format((media_falso_negativo*100)/teste.shape[0]))\n",
    "\n",
    "print('media acuracia             : {:.2f}%'.format(media_acuracia))"
   ]
  },
  {
   "cell_type": "code",
   "execution_count": 54,
   "metadata": {},
   "outputs": [
    {
     "data": {
      "image/png": "[encoded data removed]",
      "text/plain": [
       "<Figure size 432x288 with 1 Axes>"
      ]
     },
     "metadata": {
      "needs_background": "light"
     },
     "output_type": "display_data"
    }
   ],
   "source": [
    "plt.hist(acuracia_, bins=54, label=None);"
   ]
  },
  {
   "cell_type": "markdown",
   "metadata": {},
   "source": [
    "# Conclusão:"
   ]
  },
  {
   "cell_type": "markdown",
   "metadata": {},
   "source": [
    "   Podemos afirmar que o classificador Naive Bayes obteve otimos resultados, primeiramente obtendo uma acuracia de 96,48% e \n",
    "apos rodarmos o mesmo codigo dez mil vezes , ele obteve uma acuracia media de 96,93%. Ambos os valores , alem de muito proximos, sao resultados que podem ser considerados muito bons.\n",
    "   Ao plotar um histograma com todas as acuracias obtidas entre as dez mil bases de treinamento diferentes podemos cer que a \n",
    "curva se aproxima muito de uma normal com media 96,93 .\n",
    "   Apos rodarmos o teste as dez mil vezes podemos ver que a maior parte de seus dados sao negativos verdadeiros (ham classificados como ham) com uma media de 1202.47 email's que representam 86.32% do total , segudos de 147.77 email's positivos \n",
    "verdadeiros (spam que sao classificados como spam)  representando 10.61% do total , 38.89 email's em media de falsos negativo \n",
    "(email's que sao marcados como ham mas na verdade sao spam) representando 2.79% do total e por fim apenas 3.88 falsos positivo\n",
    "(email's que sao marcados como spam mas na verdade sao ham) representando 0.28% do total."
   ]
  },
  {
   "cell_type": "code",
   "execution_count": null,
   "metadata": {},
   "outputs": [],
   "source": []
  }
 ],
 "metadata": {
  "anaconda-cloud": {},
  "kernelspec": {
   "display_name": "Python 3",
   "language": "python",
   "name": "python3"
  },
  "language_info": {
   "codemirror_mode": {
    "name": "ipython",
    "version": 3
   },
   "file_extension": ".py",
   "mimetype": "text/x-python",
   "name": "python",
   "nbconvert_exporter": "python",
   "pygments_lexer": "ipython3",
   "version": "3.7.1"
  }
 },
 "nbformat": 4,
 "nbformat_minor": 1
}
